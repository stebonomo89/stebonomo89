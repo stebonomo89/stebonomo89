{
  "cells": [
    {
      "cell_type": "markdown",
      "source": [
        "#Time series forecast using Recurrent Neural Network.\n",
        "\n",
        "Data available at this link: https://fred.stlouisfed.org/series/S4248SM144NCEN \n",
        "\n",
        "data represents the sales of Nondurable Goods(Beer, Wine, and Distilled Alcoholic Beverages) from 1992 to 2022 in the U.S with monthly frequency.\n",
        "\n",
        "Sales values expressed in Millions of Dollars.\n",
        "\n",
        "The goal is to create a model that can predict future sales of the goods."
      ],
      "metadata": {
        "id": "8U3pplZc2vmj"
      },
      "id": "8U3pplZc2vmj"
    },
    {
      "cell_type": "code",
      "execution_count": 1,
      "id": "6f1f82aa",
      "metadata": {
        "id": "6f1f82aa"
      },
      "outputs": [],
      "source": [
        "import pandas as pd\n",
        "import numpy as np\n",
        "import io\n",
        "import seaborn as sns\n",
        "import matplotlib.pyplot as plt\n",
        "\n",
        "%matplotlib inline"
      ]
    },
    {
      "cell_type": "code",
      "source": [
        "from google.colab import files\n",
        "data = files.upload()"
      ],
      "metadata": {
        "colab": {
          "base_uri": "https://localhost:8080/",
          "height": 92
        },
        "id": "kQrpJ-Ar5wur",
        "outputId": "90293300-96d1-421d-e07a-4f554781cabe"
      },
      "id": "kQrpJ-Ar5wur",
      "execution_count": 2,
      "outputs": [
        {
          "output_type": "display_data",
          "data": {
            "text/plain": [
              "<IPython.core.display.HTML object>"
            ],
            "text/html": [
              "\n",
              "     <input type=\"file\" id=\"files-391e0fab-381d-4684-bb41-8a131f8fcf01\" name=\"files[]\" multiple disabled\n",
              "        style=\"border:none\" />\n",
              "     <output id=\"result-391e0fab-381d-4684-bb41-8a131f8fcf01\">\n",
              "      Upload widget is only available when the cell has been executed in the\n",
              "      current browser session. Please rerun this cell to enable.\n",
              "      </output>\n",
              "      <script>// Copyright 2017 Google LLC\n",
              "//\n",
              "// Licensed under the Apache License, Version 2.0 (the \"License\");\n",
              "// you may not use this file except in compliance with the License.\n",
              "// You may obtain a copy of the License at\n",
              "//\n",
              "//      http://www.apache.org/licenses/LICENSE-2.0\n",
              "//\n",
              "// Unless required by applicable law or agreed to in writing, software\n",
              "// distributed under the License is distributed on an \"AS IS\" BASIS,\n",
              "// WITHOUT WARRANTIES OR CONDITIONS OF ANY KIND, either express or implied.\n",
              "// See the License for the specific language governing permissions and\n",
              "// limitations under the License.\n",
              "\n",
              "/**\n",
              " * @fileoverview Helpers for google.colab Python module.\n",
              " */\n",
              "(function(scope) {\n",
              "function span(text, styleAttributes = {}) {\n",
              "  const element = document.createElement('span');\n",
              "  element.textContent = text;\n",
              "  for (const key of Object.keys(styleAttributes)) {\n",
              "    element.style[key] = styleAttributes[key];\n",
              "  }\n",
              "  return element;\n",
              "}\n",
              "\n",
              "// Max number of bytes which will be uploaded at a time.\n",
              "const MAX_PAYLOAD_SIZE = 100 * 1024;\n",
              "\n",
              "function _uploadFiles(inputId, outputId) {\n",
              "  const steps = uploadFilesStep(inputId, outputId);\n",
              "  const outputElement = document.getElementById(outputId);\n",
              "  // Cache steps on the outputElement to make it available for the next call\n",
              "  // to uploadFilesContinue from Python.\n",
              "  outputElement.steps = steps;\n",
              "\n",
              "  return _uploadFilesContinue(outputId);\n",
              "}\n",
              "\n",
              "// This is roughly an async generator (not supported in the browser yet),\n",
              "// where there are multiple asynchronous steps and the Python side is going\n",
              "// to poll for completion of each step.\n",
              "// This uses a Promise to block the python side on completion of each step,\n",
              "// then passes the result of the previous step as the input to the next step.\n",
              "function _uploadFilesContinue(outputId) {\n",
              "  const outputElement = document.getElementById(outputId);\n",
              "  const steps = outputElement.steps;\n",
              "\n",
              "  const next = steps.next(outputElement.lastPromiseValue);\n",
              "  return Promise.resolve(next.value.promise).then((value) => {\n",
              "    // Cache the last promise value to make it available to the next\n",
              "    // step of the generator.\n",
              "    outputElement.lastPromiseValue = value;\n",
              "    return next.value.response;\n",
              "  });\n",
              "}\n",
              "\n",
              "/**\n",
              " * Generator function which is called between each async step of the upload\n",
              " * process.\n",
              " * @param {string} inputId Element ID of the input file picker element.\n",
              " * @param {string} outputId Element ID of the output display.\n",
              " * @return {!Iterable<!Object>} Iterable of next steps.\n",
              " */\n",
              "function* uploadFilesStep(inputId, outputId) {\n",
              "  const inputElement = document.getElementById(inputId);\n",
              "  inputElement.disabled = false;\n",
              "\n",
              "  const outputElement = document.getElementById(outputId);\n",
              "  outputElement.innerHTML = '';\n",
              "\n",
              "  const pickedPromise = new Promise((resolve) => {\n",
              "    inputElement.addEventListener('change', (e) => {\n",
              "      resolve(e.target.files);\n",
              "    });\n",
              "  });\n",
              "\n",
              "  const cancel = document.createElement('button');\n",
              "  inputElement.parentElement.appendChild(cancel);\n",
              "  cancel.textContent = 'Cancel upload';\n",
              "  const cancelPromise = new Promise((resolve) => {\n",
              "    cancel.onclick = () => {\n",
              "      resolve(null);\n",
              "    };\n",
              "  });\n",
              "\n",
              "  // Wait for the user to pick the files.\n",
              "  const files = yield {\n",
              "    promise: Promise.race([pickedPromise, cancelPromise]),\n",
              "    response: {\n",
              "      action: 'starting',\n",
              "    }\n",
              "  };\n",
              "\n",
              "  cancel.remove();\n",
              "\n",
              "  // Disable the input element since further picks are not allowed.\n",
              "  inputElement.disabled = true;\n",
              "\n",
              "  if (!files) {\n",
              "    return {\n",
              "      response: {\n",
              "        action: 'complete',\n",
              "      }\n",
              "    };\n",
              "  }\n",
              "\n",
              "  for (const file of files) {\n",
              "    const li = document.createElement('li');\n",
              "    li.append(span(file.name, {fontWeight: 'bold'}));\n",
              "    li.append(span(\n",
              "        `(${file.type || 'n/a'}) - ${file.size} bytes, ` +\n",
              "        `last modified: ${\n",
              "            file.lastModifiedDate ? file.lastModifiedDate.toLocaleDateString() :\n",
              "                                    'n/a'} - `));\n",
              "    const percent = span('0% done');\n",
              "    li.appendChild(percent);\n",
              "\n",
              "    outputElement.appendChild(li);\n",
              "\n",
              "    const fileDataPromise = new Promise((resolve) => {\n",
              "      const reader = new FileReader();\n",
              "      reader.onload = (e) => {\n",
              "        resolve(e.target.result);\n",
              "      };\n",
              "      reader.readAsArrayBuffer(file);\n",
              "    });\n",
              "    // Wait for the data to be ready.\n",
              "    let fileData = yield {\n",
              "      promise: fileDataPromise,\n",
              "      response: {\n",
              "        action: 'continue',\n",
              "      }\n",
              "    };\n",
              "\n",
              "    // Use a chunked sending to avoid message size limits. See b/62115660.\n",
              "    let position = 0;\n",
              "    do {\n",
              "      const length = Math.min(fileData.byteLength - position, MAX_PAYLOAD_SIZE);\n",
              "      const chunk = new Uint8Array(fileData, position, length);\n",
              "      position += length;\n",
              "\n",
              "      const base64 = btoa(String.fromCharCode.apply(null, chunk));\n",
              "      yield {\n",
              "        response: {\n",
              "          action: 'append',\n",
              "          file: file.name,\n",
              "          data: base64,\n",
              "        },\n",
              "      };\n",
              "\n",
              "      let percentDone = fileData.byteLength === 0 ?\n",
              "          100 :\n",
              "          Math.round((position / fileData.byteLength) * 100);\n",
              "      percent.textContent = `${percentDone}% done`;\n",
              "\n",
              "    } while (position < fileData.byteLength);\n",
              "  }\n",
              "\n",
              "  // All done.\n",
              "  yield {\n",
              "    response: {\n",
              "      action: 'complete',\n",
              "    }\n",
              "  };\n",
              "}\n",
              "\n",
              "scope.google = scope.google || {};\n",
              "scope.google.colab = scope.google.colab || {};\n",
              "scope.google.colab._files = {\n",
              "  _uploadFiles,\n",
              "  _uploadFilesContinue,\n",
              "};\n",
              "})(self);\n",
              "</script> "
            ]
          },
          "metadata": {}
        },
        {
          "output_type": "stream",
          "name": "stdout",
          "text": [
            "Saving S4248SM144NCEN.csv to S4248SM144NCEN.csv\n"
          ]
        }
      ]
    },
    {
      "cell_type": "code",
      "source": [
        "df = pd.read_csv(\"S4248SM144NCEN.csv\",index_col='DATE',parse_dates=True)"
      ],
      "metadata": {
        "id": "1Ad6sIUBDsqj"
      },
      "id": "1Ad6sIUBDsqj",
      "execution_count": 4,
      "outputs": []
    },
    {
      "cell_type": "code",
      "source": [
        "df.head(), df.tail()"
      ],
      "metadata": {
        "colab": {
          "base_uri": "https://localhost:8080/"
        },
        "id": "_ZkSH6wFAPGE",
        "outputId": "2cd95b9e-d9e6-4cd5-c0ba-48cc709498e6"
      },
      "id": "_ZkSH6wFAPGE",
      "execution_count": 61,
      "outputs": [
        {
          "output_type": "execute_result",
          "data": {
            "text/plain": [
              "(            nondurable goods sales\n",
              " DATE                              \n",
              " 1992-01-01                    3459\n",
              " 1992-02-01                    3458\n",
              " 1992-03-01                    4002\n",
              " 1992-04-01                    4564\n",
              " 1992-05-01                    4221,             nondurable goods sales\n",
              " DATE                              \n",
              " 2022-06-01                   17700\n",
              " 2022-07-01                   15031\n",
              " 2022-08-01                   16860\n",
              " 2022-09-01                   16305\n",
              " 2022-10-01                   15418)"
            ]
          },
          "metadata": {},
          "execution_count": 61
        }
      ]
    },
    {
      "cell_type": "code",
      "execution_count": 6,
      "id": "99ee55ef",
      "metadata": {
        "id": "99ee55ef"
      },
      "outputs": [],
      "source": [
        "df.rename(columns={\"S4248SM144NCEN\":\"nondurable goods sales\"},inplace=True)"
      ]
    },
    {
      "cell_type": "code",
      "execution_count": 7,
      "id": "5314b787",
      "metadata": {
        "colab": {
          "base_uri": "https://localhost:8080/"
        },
        "id": "5314b787",
        "outputId": "8c3f112c-4bb6-4157-d2bc-cbafeb3cd91a"
      },
      "outputs": [
        {
          "output_type": "stream",
          "name": "stdout",
          "text": [
            "<class 'pandas.core.frame.DataFrame'>\n",
            "DatetimeIndex: 370 entries, 1992-01-01 to 2022-10-01\n",
            "Data columns (total 1 columns):\n",
            " #   Column                  Non-Null Count  Dtype\n",
            "---  ------                  --------------  -----\n",
            " 0   nondurable goods sales  370 non-null    int64\n",
            "dtypes: int64(1)\n",
            "memory usage: 5.8 KB\n"
          ]
        }
      ],
      "source": [
        "df.info()"
      ]
    },
    {
      "cell_type": "code",
      "execution_count": 8,
      "id": "b87c89dc",
      "metadata": {
        "colab": {
          "base_uri": "https://localhost:8080/",
          "height": 313
        },
        "id": "b87c89dc",
        "outputId": "801e80a5-76ae-437f-bd07-d7479a83e66c"
      },
      "outputs": [
        {
          "output_type": "execute_result",
          "data": {
            "text/plain": [
              "       nondurable goods sales\n",
              "count              370.000000\n",
              "mean              8678.018919\n",
              "std               3550.443776\n",
              "min               3031.000000\n",
              "25%               5525.500000\n",
              "50%               8374.000000\n",
              "75%              11232.000000\n",
              "max              18139.000000"
            ],
            "text/html": [
              "\n",
              "  <div id=\"df-b2341c8d-5428-4d21-896a-d96298ff51d3\">\n",
              "    <div class=\"colab-df-container\">\n",
              "      <div>\n",
              "<style scoped>\n",
              "    .dataframe tbody tr th:only-of-type {\n",
              "        vertical-align: middle;\n",
              "    }\n",
              "\n",
              "    .dataframe tbody tr th {\n",
              "        vertical-align: top;\n",
              "    }\n",
              "\n",
              "    .dataframe thead th {\n",
              "        text-align: right;\n",
              "    }\n",
              "</style>\n",
              "<table border=\"1\" class=\"dataframe\">\n",
              "  <thead>\n",
              "    <tr style=\"text-align: right;\">\n",
              "      <th></th>\n",
              "      <th>nondurable goods sales</th>\n",
              "    </tr>\n",
              "  </thead>\n",
              "  <tbody>\n",
              "    <tr>\n",
              "      <th>count</th>\n",
              "      <td>370.000000</td>\n",
              "    </tr>\n",
              "    <tr>\n",
              "      <th>mean</th>\n",
              "      <td>8678.018919</td>\n",
              "    </tr>\n",
              "    <tr>\n",
              "      <th>std</th>\n",
              "      <td>3550.443776</td>\n",
              "    </tr>\n",
              "    <tr>\n",
              "      <th>min</th>\n",
              "      <td>3031.000000</td>\n",
              "    </tr>\n",
              "    <tr>\n",
              "      <th>25%</th>\n",
              "      <td>5525.500000</td>\n",
              "    </tr>\n",
              "    <tr>\n",
              "      <th>50%</th>\n",
              "      <td>8374.000000</td>\n",
              "    </tr>\n",
              "    <tr>\n",
              "      <th>75%</th>\n",
              "      <td>11232.000000</td>\n",
              "    </tr>\n",
              "    <tr>\n",
              "      <th>max</th>\n",
              "      <td>18139.000000</td>\n",
              "    </tr>\n",
              "  </tbody>\n",
              "</table>\n",
              "</div>\n",
              "      <button class=\"colab-df-convert\" onclick=\"convertToInteractive('df-b2341c8d-5428-4d21-896a-d96298ff51d3')\"\n",
              "              title=\"Convert this dataframe to an interactive table.\"\n",
              "              style=\"display:none;\">\n",
              "        \n",
              "  <svg xmlns=\"http://www.w3.org/2000/svg\" height=\"24px\"viewBox=\"0 0 24 24\"\n",
              "       width=\"24px\">\n",
              "    <path d=\"M0 0h24v24H0V0z\" fill=\"none\"/>\n",
              "    <path d=\"M18.56 5.44l.94 2.06.94-2.06 2.06-.94-2.06-.94-.94-2.06-.94 2.06-2.06.94zm-11 1L8.5 8.5l.94-2.06 2.06-.94-2.06-.94L8.5 2.5l-.94 2.06-2.06.94zm10 10l.94 2.06.94-2.06 2.06-.94-2.06-.94-.94-2.06-.94 2.06-2.06.94z\"/><path d=\"M17.41 7.96l-1.37-1.37c-.4-.4-.92-.59-1.43-.59-.52 0-1.04.2-1.43.59L10.3 9.45l-7.72 7.72c-.78.78-.78 2.05 0 2.83L4 21.41c.39.39.9.59 1.41.59.51 0 1.02-.2 1.41-.59l7.78-7.78 2.81-2.81c.8-.78.8-2.07 0-2.86zM5.41 20L4 18.59l7.72-7.72 1.47 1.35L5.41 20z\"/>\n",
              "  </svg>\n",
              "      </button>\n",
              "      \n",
              "  <style>\n",
              "    .colab-df-container {\n",
              "      display:flex;\n",
              "      flex-wrap:wrap;\n",
              "      gap: 12px;\n",
              "    }\n",
              "\n",
              "    .colab-df-convert {\n",
              "      background-color: #E8F0FE;\n",
              "      border: none;\n",
              "      border-radius: 50%;\n",
              "      cursor: pointer;\n",
              "      display: none;\n",
              "      fill: #1967D2;\n",
              "      height: 32px;\n",
              "      padding: 0 0 0 0;\n",
              "      width: 32px;\n",
              "    }\n",
              "\n",
              "    .colab-df-convert:hover {\n",
              "      background-color: #E2EBFA;\n",
              "      box-shadow: 0px 1px 2px rgba(60, 64, 67, 0.3), 0px 1px 3px 1px rgba(60, 64, 67, 0.15);\n",
              "      fill: #174EA6;\n",
              "    }\n",
              "\n",
              "    [theme=dark] .colab-df-convert {\n",
              "      background-color: #3B4455;\n",
              "      fill: #D2E3FC;\n",
              "    }\n",
              "\n",
              "    [theme=dark] .colab-df-convert:hover {\n",
              "      background-color: #434B5C;\n",
              "      box-shadow: 0px 1px 3px 1px rgba(0, 0, 0, 0.15);\n",
              "      filter: drop-shadow(0px 1px 2px rgba(0, 0, 0, 0.3));\n",
              "      fill: #FFFFFF;\n",
              "    }\n",
              "  </style>\n",
              "\n",
              "      <script>\n",
              "        const buttonEl =\n",
              "          document.querySelector('#df-b2341c8d-5428-4d21-896a-d96298ff51d3 button.colab-df-convert');\n",
              "        buttonEl.style.display =\n",
              "          google.colab.kernel.accessAllowed ? 'block' : 'none';\n",
              "\n",
              "        async function convertToInteractive(key) {\n",
              "          const element = document.querySelector('#df-b2341c8d-5428-4d21-896a-d96298ff51d3');\n",
              "          const dataTable =\n",
              "            await google.colab.kernel.invokeFunction('convertToInteractive',\n",
              "                                                     [key], {});\n",
              "          if (!dataTable) return;\n",
              "\n",
              "          const docLinkHtml = 'Like what you see? Visit the ' +\n",
              "            '<a target=\"_blank\" href=https://colab.research.google.com/notebooks/data_table.ipynb>data table notebook</a>'\n",
              "            + ' to learn more about interactive tables.';\n",
              "          element.innerHTML = '';\n",
              "          dataTable['output_type'] = 'display_data';\n",
              "          await google.colab.output.renderOutput(dataTable, element);\n",
              "          const docLink = document.createElement('div');\n",
              "          docLink.innerHTML = docLinkHtml;\n",
              "          element.appendChild(docLink);\n",
              "        }\n",
              "      </script>\n",
              "    </div>\n",
              "  </div>\n",
              "  "
            ]
          },
          "metadata": {},
          "execution_count": 8
        }
      ],
      "source": [
        "df.describe()"
      ]
    },
    {
      "cell_type": "code",
      "source": [
        "df.isnull().sum()"
      ],
      "metadata": {
        "colab": {
          "base_uri": "https://localhost:8080/"
        },
        "id": "skR65ZVfCUnG",
        "outputId": "e1993785-33ae-4b7e-a3bd-3995f1103a0e"
      },
      "id": "skR65ZVfCUnG",
      "execution_count": 9,
      "outputs": [
        {
          "output_type": "execute_result",
          "data": {
            "text/plain": [
              "nondurable goods sales    0\n",
              "dtype: int64"
            ]
          },
          "metadata": {},
          "execution_count": 9
        }
      ]
    },
    {
      "cell_type": "code",
      "execution_count": 10,
      "id": "01623963",
      "metadata": {
        "colab": {
          "base_uri": "https://localhost:8080/",
          "height": 643
        },
        "id": "01623963",
        "outputId": "599cbdec-6711-44b9-e65c-bc82369152b0"
      },
      "outputs": [
        {
          "output_type": "execute_result",
          "data": {
            "text/plain": [
              "Text(0, 0.5, 'Sales (millions of dollars)')"
            ]
          },
          "metadata": {},
          "execution_count": 10
        },
        {
          "output_type": "display_data",
          "data": {
            "text/plain": [
              "<Figure size 1152x720 with 1 Axes>"
            ],
            "image/png": "[encoded data removed]"
          },
          "metadata": {
            "needs_background": "light"
          }
        }
      ],
      "source": [
        "df.plot(figsize=(16,10))\n",
        "plt.xlabel('Date')\n",
        "plt.ylabel('Sales (millions of dollars)')"
      ]
    },
    {
      "cell_type": "markdown",
      "id": "75f42aab",
      "metadata": {
        "id": "75f42aab"
      },
      "source": [
        "# Train/test split "
      ]
    },
    {
      "cell_type": "code",
      "execution_count": 11,
      "id": "22b52dac",
      "metadata": {
        "colab": {
          "base_uri": "https://localhost:8080/"
        },
        "id": "22b52dac",
        "outputId": "c032db5d-4dd7-4f15-d591-060e80fc9f43"
      },
      "outputs": [
        {
          "output_type": "execute_result",
          "data": {
            "text/plain": [
              "370"
            ]
          },
          "metadata": {},
          "execution_count": 11
        }
      ],
      "source": [
        "len(df)"
      ]
    },
    {
      "cell_type": "code",
      "source": [
        "len(df)-12"
      ],
      "metadata": {
        "colab": {
          "base_uri": "https://localhost:8080/"
        },
        "id": "hwyDynUP64kA",
        "outputId": "2463d6e4-f4e6-4c5f-bbe6-b9bf65143768"
      },
      "id": "hwyDynUP64kA",
      "execution_count": 12,
      "outputs": [
        {
          "output_type": "execute_result",
          "data": {
            "text/plain": [
              "358"
            ]
          },
          "metadata": {},
          "execution_count": 12
        }
      ]
    },
    {
      "cell_type": "code",
      "execution_count": 13,
      "id": "aa8b0784",
      "metadata": {
        "id": "aa8b0784"
      },
      "outputs": [],
      "source": [
        "test_size= 12"
      ]
    },
    {
      "cell_type": "code",
      "execution_count": 14,
      "id": "354ff65f",
      "metadata": {
        "id": "354ff65f"
      },
      "outputs": [],
      "source": [
        "test_ind= len(df)- test_size"
      ]
    },
    {
      "cell_type": "code",
      "execution_count": 15,
      "id": "5c8f70ae",
      "metadata": {
        "id": "5c8f70ae"
      },
      "outputs": [],
      "source": [
        "train= df.iloc[:test_ind]\n",
        "test= df.iloc[test_ind:]"
      ]
    },
    {
      "cell_type": "markdown",
      "id": "e3b8d1fd",
      "metadata": {
        "id": "e3b8d1fd"
      },
      "source": [
        "# Scaling our data"
      ]
    },
    {
      "cell_type": "code",
      "execution_count": 16,
      "id": "0b69bc5d",
      "metadata": {
        "id": "0b69bc5d"
      },
      "outputs": [],
      "source": [
        "from sklearn.preprocessing import MinMaxScaler"
      ]
    },
    {
      "cell_type": "code",
      "execution_count": 17,
      "id": "5bcb4f0f",
      "metadata": {
        "id": "5bcb4f0f"
      },
      "outputs": [],
      "source": [
        "scaler = MinMaxScaler()"
      ]
    },
    {
      "cell_type": "code",
      "execution_count": 18,
      "id": "0eba4f4b",
      "metadata": {
        "colab": {
          "base_uri": "https://localhost:8080/"
        },
        "id": "0eba4f4b",
        "outputId": "f70c5ee7-6d6f-461f-a07a-2bd0760b66a4"
      },
      "outputs": [
        {
          "output_type": "execute_result",
          "data": {
            "text/plain": [
              "MinMaxScaler()"
            ]
          },
          "metadata": {},
          "execution_count": 18
        }
      ],
      "source": [
        "scaler.fit(train)"
      ]
    },
    {
      "cell_type": "code",
      "execution_count": 19,
      "id": "16a28f90",
      "metadata": {
        "id": "16a28f90"
      },
      "outputs": [],
      "source": [
        "scaled_train = scaler.transform(train)\n",
        "scaled_test = scaler.transform(test)"
      ]
    },
    {
      "cell_type": "markdown",
      "id": "61c2ac41",
      "metadata": {
        "id": "61c2ac41"
      },
      "source": [
        "# Time series generator"
      ]
    },
    {
      "cell_type": "code",
      "execution_count": 20,
      "id": "42f29c9d",
      "metadata": {
        "id": "42f29c9d"
      },
      "outputs": [],
      "source": [
        "from tensorflow.keras.preprocessing.sequence import TimeseriesGenerator"
      ]
    },
    {
      "cell_type": "code",
      "execution_count": 21,
      "id": "9231bba2",
      "metadata": {
        "id": "9231bba2"
      },
      "outputs": [],
      "source": [
        "length = 12\n",
        "generator = TimeseriesGenerator(scaled_train, scaled_train, length=length, batch_size=1)"
      ]
    },
    {
      "cell_type": "markdown",
      "source": [
        "## Creating model RNN with LSTM"
      ],
      "metadata": {
        "id": "P6Nl3tNnMW8J"
      },
      "id": "P6Nl3tNnMW8J"
    },
    {
      "cell_type": "code",
      "source": [
        "from tensorflow.keras.models import Sequential\n",
        "from tensorflow.keras.layers import Dense,LSTM"
      ],
      "metadata": {
        "id": "w96Vlm7tNbfF"
      },
      "id": "w96Vlm7tNbfF",
      "execution_count": 22,
      "outputs": []
    },
    {
      "cell_type": "code",
      "source": [
        "n_features = 1"
      ],
      "metadata": {
        "id": "DgBK7fmRrBU_"
      },
      "id": "DgBK7fmRrBU_",
      "execution_count": 23,
      "outputs": []
    },
    {
      "cell_type": "code",
      "source": [
        "model = Sequential()\n",
        "model.add(LSTM(100, activation='relu',input_shape=(length,n_features)))\n",
        "model.add(Dense(1))\n",
        "model.compile(optimizer='adam',loss='mse')\n",
        "    \n"
      ],
      "metadata": {
        "id": "krs8uZr0rIXO"
      },
      "id": "krs8uZr0rIXO",
      "execution_count": 24,
      "outputs": []
    },
    {
      "cell_type": "code",
      "source": [
        "model.summary()"
      ],
      "metadata": {
        "colab": {
          "base_uri": "https://localhost:8080/"
        },
        "id": "8q8e832lsDke",
        "outputId": "4949b460-66c0-4324-b493-a313b02e560b"
      },
      "id": "8q8e832lsDke",
      "execution_count": 25,
      "outputs": [
        {
          "output_type": "stream",
          "name": "stdout",
          "text": [
            "Model: \"sequential\"\n",
            "_________________________________________________________________\n",
            " Layer (type)                Output Shape              Param #   \n",
            "=================================================================\n",
            " lstm (LSTM)                 (None, 100)               40800     \n",
            "                                                                 \n",
            " dense (Dense)               (None, 1)                 101       \n",
            "                                                                 \n",
            "=================================================================\n",
            "Total params: 40,901\n",
            "Trainable params: 40,901\n",
            "Non-trainable params: 0\n",
            "_________________________________________________________________\n"
          ]
        }
      ]
    },
    {
      "cell_type": "code",
      "source": [
        "validation_generator = TimeseriesGenerator(scaled_test,scaled_test,length=11,batch_size=1)"
      ],
      "metadata": {
        "id": "42xpaH_mtGl_"
      },
      "id": "42xpaH_mtGl_",
      "execution_count": 26,
      "outputs": []
    },
    {
      "cell_type": "code",
      "source": [
        "model.fit(generator,epochs=50)"
      ],
      "metadata": {
        "colab": {
          "base_uri": "https://localhost:8080/"
        },
        "id": "eyZnUT0qthND",
        "outputId": "01b1c054-4ea4-416a-e822-1c731909d078"
      },
      "id": "eyZnUT0qthND",
      "execution_count": 28,
      "outputs": [
        {
          "output_type": "stream",
          "name": "stdout",
          "text": [
            "Epoch 1/50\n",
            "346/346 [==============================] - 2s 7ms/step - loss: 0.0012\n",
            "Epoch 2/50\n",
            "346/346 [==============================] - 2s 7ms/step - loss: 0.0013\n",
            "Epoch 3/50\n",
            "346/346 [==============================] - 2s 7ms/step - loss: 0.0012\n",
            "Epoch 4/50\n",
            "346/346 [==============================] - 2s 7ms/step - loss: 0.0014\n",
            "Epoch 5/50\n",
            "346/346 [==============================] - 2s 7ms/step - loss: 0.0013\n",
            "Epoch 6/50\n",
            "346/346 [==============================] - 2s 7ms/step - loss: 0.0013\n",
            "Epoch 7/50\n",
            "346/346 [==============================] - 2s 7ms/step - loss: 0.0014\n",
            "Epoch 8/50\n",
            "346/346 [==============================] - 2s 7ms/step - loss: 0.0012\n",
            "Epoch 9/50\n",
            "346/346 [==============================] - 2s 7ms/step - loss: 0.0013\n",
            "Epoch 10/50\n",
            "346/346 [==============================] - 2s 7ms/step - loss: 0.0013\n",
            "Epoch 11/50\n",
            "346/346 [==============================] - 2s 7ms/step - loss: 0.0012\n",
            "Epoch 12/50\n",
            "346/346 [==============================] - 2s 7ms/step - loss: 0.0012\n",
            "Epoch 13/50\n",
            "346/346 [==============================] - 2s 7ms/step - loss: 0.0012\n",
            "Epoch 14/50\n",
            "346/346 [==============================] - 2s 7ms/step - loss: 0.0012\n",
            "Epoch 15/50\n",
            "346/346 [==============================] - 2s 7ms/step - loss: 0.0012\n",
            "Epoch 16/50\n",
            "346/346 [==============================] - 2s 7ms/step - loss: 0.0013\n",
            "Epoch 17/50\n",
            "346/346 [==============================] - 3s 9ms/step - loss: 0.0013\n",
            "Epoch 18/50\n",
            "346/346 [==============================] - 2s 7ms/step - loss: 0.0013\n",
            "Epoch 19/50\n",
            "346/346 [==============================] - 2s 7ms/step - loss: 0.0013\n",
            "Epoch 20/50\n",
            "346/346 [==============================] - 2s 7ms/step - loss: 0.0012\n",
            "Epoch 21/50\n",
            "346/346 [==============================] - 2s 7ms/step - loss: 0.0012\n",
            "Epoch 22/50\n",
            "346/346 [==============================] - 2s 7ms/step - loss: 0.0012\n",
            "Epoch 23/50\n",
            "346/346 [==============================] - 2s 7ms/step - loss: 0.0013\n",
            "Epoch 24/50\n",
            "346/346 [==============================] - 2s 7ms/step - loss: 0.0011\n",
            "Epoch 25/50\n",
            "346/346 [==============================] - 2s 7ms/step - loss: 0.0012\n",
            "Epoch 26/50\n",
            "346/346 [==============================] - 2s 7ms/step - loss: 0.0012\n",
            "Epoch 27/50\n",
            "346/346 [==============================] - 2s 7ms/step - loss: 0.0013\n",
            "Epoch 28/50\n",
            "346/346 [==============================] - 2s 7ms/step - loss: 0.0012\n",
            "Epoch 29/50\n",
            "346/346 [==============================] - 2s 7ms/step - loss: 0.0012\n",
            "Epoch 30/50\n",
            "346/346 [==============================] - 2s 7ms/step - loss: 0.0011\n",
            "Epoch 31/50\n",
            "346/346 [==============================] - 2s 7ms/step - loss: 0.0012\n",
            "Epoch 32/50\n",
            "346/346 [==============================] - 2s 7ms/step - loss: 0.0011\n",
            "Epoch 33/50\n",
            "346/346 [==============================] - 2s 7ms/step - loss: 0.0012\n",
            "Epoch 34/50\n",
            "346/346 [==============================] - 2s 7ms/step - loss: 0.0012\n",
            "Epoch 35/50\n",
            "346/346 [==============================] - 2s 7ms/step - loss: 0.0011\n",
            "Epoch 36/50\n",
            "346/346 [==============================] - 2s 7ms/step - loss: 0.0012\n",
            "Epoch 37/50\n",
            "346/346 [==============================] - 2s 7ms/step - loss: 0.0012\n",
            "Epoch 38/50\n",
            "346/346 [==============================] - 2s 7ms/step - loss: 0.0012\n",
            "Epoch 39/50\n",
            "346/346 [==============================] - 2s 7ms/step - loss: 0.0012\n",
            "Epoch 40/50\n",
            "346/346 [==============================] - 2s 7ms/step - loss: 0.0011\n",
            "Epoch 41/50\n",
            "346/346 [==============================] - 2s 7ms/step - loss: 0.0012\n",
            "Epoch 42/50\n",
            "346/346 [==============================] - 2s 7ms/step - loss: 0.0012\n",
            "Epoch 43/50\n",
            "346/346 [==============================] - 2s 7ms/step - loss: 0.0012\n",
            "Epoch 44/50\n",
            "346/346 [==============================] - 2s 7ms/step - loss: 0.0012\n",
            "Epoch 45/50\n",
            "346/346 [==============================] - 2s 7ms/step - loss: 0.0011\n",
            "Epoch 46/50\n",
            "346/346 [==============================] - 2s 7ms/step - loss: 0.0012\n",
            "Epoch 47/50\n",
            "346/346 [==============================] - 2s 7ms/step - loss: 0.0012\n",
            "Epoch 48/50\n",
            "346/346 [==============================] - 2s 7ms/step - loss: 0.0012\n",
            "Epoch 49/50\n",
            "346/346 [==============================] - 2s 7ms/step - loss: 0.0011\n",
            "Epoch 50/50\n",
            "346/346 [==============================] - 2s 7ms/step - loss: 0.0011\n"
          ]
        },
        {
          "output_type": "execute_result",
          "data": {
            "text/plain": [
              "<keras.callbacks.History at 0x7f3cab7925e0>"
            ]
          },
          "metadata": {},
          "execution_count": 28
        }
      ]
    },
    {
      "cell_type": "code",
      "source": [
        "losses = pd.DataFrame(model.history.history)"
      ],
      "metadata": {
        "id": "UnmQ0wKPzLm1"
      },
      "id": "UnmQ0wKPzLm1",
      "execution_count": 29,
      "outputs": []
    },
    {
      "cell_type": "code",
      "source": [
        "losses.plot()"
      ],
      "metadata": {
        "colab": {
          "base_uri": "https://localhost:8080/",
          "height": 302
        },
        "id": "wSlRiOsPzkAb",
        "outputId": "00973e66-6a62-4e8d-b971-78e007e5af0e"
      },
      "id": "wSlRiOsPzkAb",
      "execution_count": 31,
      "outputs": [
        {
          "output_type": "execute_result",
          "data": {
            "text/plain": [
              "<matplotlib.axes._subplots.AxesSubplot at 0x7f3cab738f10>"
            ]
          },
          "metadata": {},
          "execution_count": 31
        },
        {
          "output_type": "display_data",
          "data": {
            "text/plain": [
              "<Figure size 432x288 with 1 Axes>"
            ],
            "image/png": "[encoded data removed]"
          },
          "metadata": {
            "needs_background": "light"
          }
        }
      ]
    },
    {
      "cell_type": "markdown",
      "source": [
        "# LSTM Predictions"
      ],
      "metadata": {
        "id": "y1Jwa448tYDC"
      },
      "id": "y1Jwa448tYDC"
    },
    {
      "cell_type": "code",
      "source": [
        "test_predictions = []\n",
        "first_eval_batch = scaled_train[-length:]\n",
        "current_batch = first_eval_batch.reshape((1, length, n_features))\n",
        "\n",
        "for i in range(len(test)):\n",
        "  current_pred = model.predict(current_batch)[0]\n",
        "  test_predictions.append(current_pred)\n",
        "  current_batch = np.append(current_batch[:,1:,:],[[current_pred]],axis=1)"
      ],
      "metadata": {
        "colab": {
          "base_uri": "https://localhost:8080/"
        },
        "id": "W-6z8m9SzoiI",
        "outputId": "1559d500-9914-4745-da6b-3688bc0d81d9"
      },
      "id": "W-6z8m9SzoiI",
      "execution_count": 32,
      "outputs": [
        {
          "output_type": "stream",
          "name": "stdout",
          "text": [
            "1/1 [==============================] - 0s 223ms/step\n",
            "1/1 [==============================] - 0s 18ms/step\n",
            "1/1 [==============================] - 0s 17ms/step\n",
            "1/1 [==============================] - 0s 16ms/step\n",
            "1/1 [==============================] - 0s 19ms/step\n",
            "1/1 [==============================] - 0s 22ms/step\n",
            "1/1 [==============================] - 0s 20ms/step\n",
            "1/1 [==============================] - 0s 32ms/step\n",
            "1/1 [==============================] - 0s 19ms/step\n",
            "1/1 [==============================] - 0s 20ms/step\n",
            "1/1 [==============================] - 0s 20ms/step\n",
            "1/1 [==============================] - 0s 21ms/step\n"
          ]
        }
      ]
    },
    {
      "cell_type": "code",
      "source": [
        "true_predictions = scaler.inverse_transform(test_predictions)"
      ],
      "metadata": {
        "id": "YACl_2HM2-Ja"
      },
      "id": "YACl_2HM2-Ja",
      "execution_count": 33,
      "outputs": []
    },
    {
      "cell_type": "code",
      "source": [
        "test['Predictions'] = true_predictions"
      ],
      "metadata": {
        "colab": {
          "base_uri": "https://localhost:8080/"
        },
        "id": "35b3y1Ya3RRE",
        "outputId": "2b67e25e-c6d1-4807-fe1b-0a53b9e0f43c"
      },
      "id": "35b3y1Ya3RRE",
      "execution_count": 34,
      "outputs": [
        {
          "output_type": "stream",
          "name": "stderr",
          "text": [
            "<ipython-input-34-920b79c3c314>:1: SettingWithCopyWarning: \n",
            "A value is trying to be set on a copy of a slice from a DataFrame.\n",
            "Try using .loc[row_indexer,col_indexer] = value instead\n",
            "\n",
            "See the caveats in the documentation: https://pandas.pydata.org/pandas-docs/stable/user_guide/indexing.html#returning-a-view-versus-a-copy\n",
            "  test['Predictions'] = true_predictions\n"
          ]
        }
      ]
    },
    {
      "cell_type": "code",
      "source": [
        "test"
      ],
      "metadata": {
        "colab": {
          "base_uri": "https://localhost:8080/",
          "height": 466
        },
        "id": "jdjYmXCF3lmS",
        "outputId": "aea3e470-94e5-4ae2-ae6e-e9f975c0f9c2"
      },
      "id": "jdjYmXCF3lmS",
      "execution_count": 35,
      "outputs": [
        {
          "output_type": "execute_result",
          "data": {
            "text/plain": [
              "            nondurable goods sales   Predictions\n",
              "DATE                                            \n",
              "2021-11-01                   16896  15722.635118\n",
              "2021-12-01                   18139  16560.873664\n",
              "2022-01-01                   11926  12287.794809\n",
              "2022-02-01                   13333  13888.553695\n",
              "2022-03-01                   16165  15726.447658\n",
              "2022-04-01                   15584  15988.141892\n",
              "2022-05-01                   16600  16354.407652\n",
              "2022-06-01                   17700  17851.690084\n",
              "2022-07-01                   15031  16247.062410\n",
              "2022-08-01                   16860  16541.803933\n",
              "2022-09-01                   16305  16304.937790\n",
              "2022-10-01                   15418  16146.894026"
            ],
            "text/html": [
              "\n",
              "  <div id=\"df-ad10c5e4-b4f5-4247-ae1e-d75b4d8e410e\">\n",
              "    <div class=\"colab-df-container\">\n",
              "      <div>\n",
              "<style scoped>\n",
              "    .dataframe tbody tr th:only-of-type {\n",
              "        vertical-align: middle;\n",
              "    }\n",
              "\n",
              "    .dataframe tbody tr th {\n",
              "        vertical-align: top;\n",
              "    }\n",
              "\n",
              "    .dataframe thead th {\n",
              "        text-align: right;\n",
              "    }\n",
              "</style>\n",
              "<table border=\"1\" class=\"dataframe\">\n",
              "  <thead>\n",
              "    <tr style=\"text-align: right;\">\n",
              "      <th></th>\n",
              "      <th>nondurable goods sales</th>\n",
              "      <th>Predictions</th>\n",
              "    </tr>\n",
              "    <tr>\n",
              "      <th>DATE</th>\n",
              "      <th></th>\n",
              "      <th></th>\n",
              "    </tr>\n",
              "  </thead>\n",
              "  <tbody>\n",
              "    <tr>\n",
              "      <th>2021-11-01</th>\n",
              "      <td>16896</td>\n",
              "      <td>15722.635118</td>\n",
              "    </tr>\n",
              "    <tr>\n",
              "      <th>2021-12-01</th>\n",
              "      <td>18139</td>\n",
              "      <td>16560.873664</td>\n",
              "    </tr>\n",
              "    <tr>\n",
              "      <th>2022-01-01</th>\n",
              "      <td>11926</td>\n",
              "      <td>12287.794809</td>\n",
              "    </tr>\n",
              "    <tr>\n",
              "      <th>2022-02-01</th>\n",
              "      <td>13333</td>\n",
              "      <td>13888.553695</td>\n",
              "    </tr>\n",
              "    <tr>\n",
              "      <th>2022-03-01</th>\n",
              "      <td>16165</td>\n",
              "      <td>15726.447658</td>\n",
              "    </tr>\n",
              "    <tr>\n",
              "      <th>2022-04-01</th>\n",
              "      <td>15584</td>\n",
              "      <td>15988.141892</td>\n",
              "    </tr>\n",
              "    <tr>\n",
              "      <th>2022-05-01</th>\n",
              "      <td>16600</td>\n",
              "      <td>16354.407652</td>\n",
              "    </tr>\n",
              "    <tr>\n",
              "      <th>2022-06-01</th>\n",
              "      <td>17700</td>\n",
              "      <td>17851.690084</td>\n",
              "    </tr>\n",
              "    <tr>\n",
              "      <th>2022-07-01</th>\n",
              "      <td>15031</td>\n",
              "      <td>16247.062410</td>\n",
              "    </tr>\n",
              "    <tr>\n",
              "      <th>2022-08-01</th>\n",
              "      <td>16860</td>\n",
              "      <td>16541.803933</td>\n",
              "    </tr>\n",
              "    <tr>\n",
              "      <th>2022-09-01</th>\n",
              "      <td>16305</td>\n",
              "      <td>16304.937790</td>\n",
              "    </tr>\n",
              "    <tr>\n",
              "      <th>2022-10-01</th>\n",
              "      <td>15418</td>\n",
              "      <td>16146.894026</td>\n",
              "    </tr>\n",
              "  </tbody>\n",
              "</table>\n",
              "</div>\n",
              "      <button class=\"colab-df-convert\" onclick=\"convertToInteractive('df-ad10c5e4-b4f5-4247-ae1e-d75b4d8e410e')\"\n",
              "              title=\"Convert this dataframe to an interactive table.\"\n",
              "              style=\"display:none;\">\n",
              "        \n",
              "  <svg xmlns=\"http://www.w3.org/2000/svg\" height=\"24px\"viewBox=\"0 0 24 24\"\n",
              "       width=\"24px\">\n",
              "    <path d=\"M0 0h24v24H0V0z\" fill=\"none\"/>\n",
              "    <path d=\"M18.56 5.44l.94 2.06.94-2.06 2.06-.94-2.06-.94-.94-2.06-.94 2.06-2.06.94zm-11 1L8.5 8.5l.94-2.06 2.06-.94-2.06-.94L8.5 2.5l-.94 2.06-2.06.94zm10 10l.94 2.06.94-2.06 2.06-.94-2.06-.94-.94-2.06-.94 2.06-2.06.94z\"/><path d=\"M17.41 7.96l-1.37-1.37c-.4-.4-.92-.59-1.43-.59-.52 0-1.04.2-1.43.59L10.3 9.45l-7.72 7.72c-.78.78-.78 2.05 0 2.83L4 21.41c.39.39.9.59 1.41.59.51 0 1.02-.2 1.41-.59l7.78-7.78 2.81-2.81c.8-.78.8-2.07 0-2.86zM5.41 20L4 18.59l7.72-7.72 1.47 1.35L5.41 20z\"/>\n",
              "  </svg>\n",
              "      </button>\n",
              "      \n",
              "  <style>\n",
              "    .colab-df-container {\n",
              "      display:flex;\n",
              "      flex-wrap:wrap;\n",
              "      gap: 12px;\n",
              "    }\n",
              "\n",
              "    .colab-df-convert {\n",
              "      background-color: #E8F0FE;\n",
              "      border: none;\n",
              "      border-radius: 50%;\n",
              "      cursor: pointer;\n",
              "      display: none;\n",
              "      fill: #1967D2;\n",
              "      height: 32px;\n",
              "      padding: 0 0 0 0;\n",
              "      width: 32px;\n",
              "    }\n",
              "\n",
              "    .colab-df-convert:hover {\n",
              "      background-color: #E2EBFA;\n",
              "      box-shadow: 0px 1px 2px rgba(60, 64, 67, 0.3), 0px 1px 3px 1px rgba(60, 64, 67, 0.15);\n",
              "      fill: #174EA6;\n",
              "    }\n",
              "\n",
              "    [theme=dark] .colab-df-convert {\n",
              "      background-color: #3B4455;\n",
              "      fill: #D2E3FC;\n",
              "    }\n",
              "\n",
              "    [theme=dark] .colab-df-convert:hover {\n",
              "      background-color: #434B5C;\n",
              "      box-shadow: 0px 1px 3px 1px rgba(0, 0, 0, 0.15);\n",
              "      filter: drop-shadow(0px 1px 2px rgba(0, 0, 0, 0.3));\n",
              "      fill: #FFFFFF;\n",
              "    }\n",
              "  </style>\n",
              "\n",
              "      <script>\n",
              "        const buttonEl =\n",
              "          document.querySelector('#df-ad10c5e4-b4f5-4247-ae1e-d75b4d8e410e button.colab-df-convert');\n",
              "        buttonEl.style.display =\n",
              "          google.colab.kernel.accessAllowed ? 'block' : 'none';\n",
              "\n",
              "        async function convertToInteractive(key) {\n",
              "          const element = document.querySelector('#df-ad10c5e4-b4f5-4247-ae1e-d75b4d8e410e');\n",
              "          const dataTable =\n",
              "            await google.colab.kernel.invokeFunction('convertToInteractive',\n",
              "                                                     [key], {});\n",
              "          if (!dataTable) return;\n",
              "\n",
              "          const docLinkHtml = 'Like what you see? Visit the ' +\n",
              "            '<a target=\"_blank\" href=https://colab.research.google.com/notebooks/data_table.ipynb>data table notebook</a>'\n",
              "            + ' to learn more about interactive tables.';\n",
              "          element.innerHTML = '';\n",
              "          dataTable['output_type'] = 'display_data';\n",
              "          await google.colab.output.renderOutput(dataTable, element);\n",
              "          const docLink = document.createElement('div');\n",
              "          docLink.innerHTML = docLinkHtml;\n",
              "          element.appendChild(docLink);\n",
              "        }\n",
              "      </script>\n",
              "    </div>\n",
              "  </div>\n",
              "  "
            ]
          },
          "metadata": {},
          "execution_count": 35
        }
      ]
    },
    {
      "cell_type": "code",
      "source": [
        "test.plot(figsize=(12,8))\n",
        "plt.xlabel('Date')\n",
        "plt.ylabel('Sales (millions of dollars)')"
      ],
      "metadata": {
        "colab": {
          "base_uri": "https://localhost:8080/",
          "height": 546
        },
        "id": "OqDnE_1V3zHi",
        "outputId": "e6c8a0de-a646-4c5d-ecca-599146671cd8"
      },
      "id": "OqDnE_1V3zHi",
      "execution_count": 36,
      "outputs": [
        {
          "output_type": "execute_result",
          "data": {
            "text/plain": [
              "Text(0, 0.5, 'Sales (millions of dollars)')"
            ]
          },
          "metadata": {},
          "execution_count": 36
        },
        {
          "output_type": "display_data",
          "data": {
            "text/plain": [
              "<Figure size 864x576 with 1 Axes>"
            ],
            "image/png": "[encoded data removed]"
          },
          "metadata": {
            "needs_background": "light"
          }
        }
      ]
    },
    {
      "cell_type": "markdown",
      "source": [
        "# Calculating the RMSE"
      ],
      "metadata": {
        "id": "XJh1_kvs7Q3J"
      },
      "id": "XJh1_kvs7Q3J"
    },
    {
      "cell_type": "code",
      "source": [
        "from sklearn.metrics import mean_squared_error"
      ],
      "metadata": {
        "id": "Tv3GARUS4s0u"
      },
      "id": "Tv3GARUS4s0u",
      "execution_count": 37,
      "outputs": []
    },
    {
      "cell_type": "code",
      "source": [
        "np.sqrt(mean_squared_error(test['nondurable goods sales'],test['Predictions']))"
      ],
      "metadata": {
        "colab": {
          "base_uri": "https://localhost:8080/"
        },
        "id": "W8FK1pxC7cyE",
        "outputId": "42f74317-202f-437b-c6f3-d9df098f8828"
      },
      "id": "W8FK1pxC7cyE",
      "execution_count": 38,
      "outputs": [
        {
          "output_type": "execute_result",
          "data": {
            "text/plain": [
              "755.9282707878497"
            ]
          },
          "metadata": {},
          "execution_count": 38
        }
      ]
    },
    {
      "cell_type": "code",
      "source": [
        "test.mean()\n",
        "\n"
      ],
      "metadata": {
        "colab": {
          "base_uri": "https://localhost:8080/"
        },
        "id": "8NIa1GIo4lQe",
        "outputId": "f43d9c7e-6781-4d64-d357-f409ee9432f1"
      },
      "id": "8NIa1GIo4lQe",
      "execution_count": 46,
      "outputs": [
        {
          "output_type": "execute_result",
          "data": {
            "text/plain": [
              "nondurable goods sales    15829.750000\n",
              "Predictions               15801.770227\n",
              "dtype: float64"
            ]
          },
          "metadata": {},
          "execution_count": 46
        }
      ]
    },
    {
      "cell_type": "code",
      "source": [
        "((755.92*100)/15829.75)"
      ],
      "metadata": {
        "colab": {
          "base_uri": "https://localhost:8080/"
        },
        "id": "afOXDbfZ5JFv",
        "outputId": "0004e52a-ab9e-4fb5-a19a-8db98957380b"
      },
      "id": "afOXDbfZ5JFv",
      "execution_count": 60,
      "outputs": [
        {
          "output_type": "execute_result",
          "data": {
            "text/plain": [
              "4.775312307522229"
            ]
          },
          "metadata": {},
          "execution_count": 60
        }
      ]
    },
    {
      "cell_type": "markdown",
      "source": [
        "RMSE is around 4,77 % of the mean value of sales. \n",
        "\n",
        "In conclusion, the model is able to predict the trend and the values of sales with a discrete accuracy."
      ],
      "metadata": {
        "id": "Jx4qP8GX8BHX"
      },
      "id": "Jx4qP8GX8BHX"
    },
    {
      "cell_type": "code",
      "source": [],
      "metadata": {
        "id": "mFWk202693x-"
      },
      "id": "mFWk202693x-",
      "execution_count": null,
      "outputs": []
    }
  ],
  "metadata": {
    "kernelspec": {
      "display_name": "Python 3 (ipykernel)",
      "language": "python",
      "name": "python3"
    },
    "language_info": {
      "codemirror_mode": {
        "name": "ipython",
        "version": 3
      },
      "file_extension": ".py",
      "mimetype": "text/x-python",
      "name": "python",
      "nbconvert_exporter": "python",
      "pygments_lexer": "ipython3",
      "version": "3.9.12"
    },
    "colab": {
      "provenance": []
    }
  },
  "nbformat": 4,
  "nbformat_minor": 5
}